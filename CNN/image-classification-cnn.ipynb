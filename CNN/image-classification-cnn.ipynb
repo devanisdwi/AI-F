{
 "cells": [
  {
   "cell_type": "markdown",
   "id": "92f94c43",
   "metadata": {},
   "source": [
    "## Import Modules"
   ]
  },
  {
   "cell_type": "code",
   "execution_count": 26,
   "id": "b33c359c",
   "metadata": {},
   "outputs": [],
   "source": [
    "from sklearn.model_selection import train_test_split\n",
    "from sklearn.preprocessing import LabelBinarizer\n",
    "from sklearn.metrics import classification_report\n",
    "from tensorflow.keras.models import Sequential\n",
    "from tensorflow.keras.layers import InputLayer, Flatten, Dense, Conv2D, MaxPool2D, Dropout\n",
    "from tensorflow.keras.optimizers import Adam\n",
    "from keras.preprocessing import image\n",
    "import matplotlib.pyplot as plt\n",
    "import numpy as np\n",
    "import cv2\n",
    "import glob\n",
    "import time\n",
    "%matplotlib inline"
   ]
  },
  {
   "cell_type": "markdown",
   "id": "9de60452",
   "metadata": {},
   "source": [
    "## Data Image Preparation "
   ]
  },
  {
   "cell_type": "code",
   "execution_count": 27,
   "id": "6cbd3cad",
   "metadata": {},
   "outputs": [],
   "source": [
    "imagePaths = 'dataset\\\\daun-herbal\\\\'\n",
    "label_list = ['sirih', 'seledri']\n",
    "data = []\n",
    "labels = []"
   ]
  },
  {
   "cell_type": "code",
   "execution_count": 28,
   "id": "af9544d5",
   "metadata": {},
   "outputs": [],
   "source": [
    "for label in label_list:\n",
    "    for imagePath in glob.glob(imagePaths+label+'\\\\*.jpg'):\n",
    "        #print(imagePath)\n",
    "        image = cv2.imread(imagePath)\n",
    "        image = cv2.resize(image, (32, 32))\n",
    "        data.append(image)\n",
    "        labels.append(label)"
   ]
  },
  {
   "cell_type": "code",
   "execution_count": 29,
   "id": "eeea21c2",
   "metadata": {},
   "outputs": [
    {
     "data": {
      "text/plain": [
       "(200, 32, 32, 3)"
      ]
     },
     "execution_count": 29,
     "metadata": {},
     "output_type": "execute_result"
    }
   ],
   "source": [
    "np.array(data).shape"
   ]
  },
  {
   "cell_type": "code",
   "execution_count": 30,
   "id": "91b429bb",
   "metadata": {},
   "outputs": [],
   "source": [
    "data = np.array(data, dtype='float') / 255.0\n",
    "labels = np.array(labels)"
   ]
  },
  {
   "cell_type": "code",
   "execution_count": 31,
   "id": "5ee88839",
   "metadata": {},
   "outputs": [
    {
     "name": "stdout",
     "output_type": "stream",
     "text": [
      "['sirih' 'sirih' 'sirih' 'sirih' 'sirih' 'sirih' 'sirih' 'sirih' 'sirih'\n",
      " 'sirih' 'sirih' 'sirih' 'sirih' 'sirih' 'sirih' 'sirih' 'sirih' 'sirih'\n",
      " 'sirih' 'sirih' 'sirih' 'sirih' 'sirih' 'sirih' 'sirih' 'sirih' 'sirih'\n",
      " 'sirih' 'sirih' 'sirih' 'sirih' 'sirih' 'sirih' 'sirih' 'sirih' 'sirih'\n",
      " 'sirih' 'sirih' 'sirih' 'sirih' 'sirih' 'sirih' 'sirih' 'sirih' 'sirih'\n",
      " 'sirih' 'sirih' 'sirih' 'sirih' 'sirih' 'sirih' 'sirih' 'sirih' 'sirih'\n",
      " 'sirih' 'sirih' 'sirih' 'sirih' 'sirih' 'sirih' 'sirih' 'sirih' 'sirih'\n",
      " 'sirih' 'sirih' 'sirih' 'sirih' 'sirih' 'sirih' 'sirih' 'sirih' 'sirih'\n",
      " 'sirih' 'sirih' 'sirih' 'sirih' 'sirih' 'sirih' 'sirih' 'sirih' 'sirih'\n",
      " 'sirih' 'sirih' 'sirih' 'sirih' 'sirih' 'sirih' 'sirih' 'sirih' 'sirih'\n",
      " 'sirih' 'sirih' 'sirih' 'sirih' 'sirih' 'sirih' 'sirih' 'sirih' 'sirih'\n",
      " 'sirih' 'seledri' 'seledri' 'seledri' 'seledri' 'seledri' 'seledri'\n",
      " 'seledri' 'seledri' 'seledri' 'seledri' 'seledri' 'seledri' 'seledri'\n",
      " 'seledri' 'seledri' 'seledri' 'seledri' 'seledri' 'seledri' 'seledri'\n",
      " 'seledri' 'seledri' 'seledri' 'seledri' 'seledri' 'seledri' 'seledri'\n",
      " 'seledri' 'seledri' 'seledri' 'seledri' 'seledri' 'seledri' 'seledri'\n",
      " 'seledri' 'seledri' 'seledri' 'seledri' 'seledri' 'seledri' 'seledri'\n",
      " 'seledri' 'seledri' 'seledri' 'seledri' 'seledri' 'seledri' 'seledri'\n",
      " 'seledri' 'seledri' 'seledri' 'seledri' 'seledri' 'seledri' 'seledri'\n",
      " 'seledri' 'seledri' 'seledri' 'seledri' 'seledri' 'seledri' 'seledri'\n",
      " 'seledri' 'seledri' 'seledri' 'seledri' 'seledri' 'seledri' 'seledri'\n",
      " 'seledri' 'seledri' 'seledri' 'seledri' 'seledri' 'seledri' 'seledri'\n",
      " 'seledri' 'seledri' 'seledri' 'seledri' 'seledri' 'seledri' 'seledri'\n",
      " 'seledri' 'seledri' 'seledri' 'seledri' 'seledri' 'seledri' 'seledri'\n",
      " 'seledri' 'seledri' 'seledri' 'seledri' 'seledri' 'seledri' 'seledri'\n",
      " 'seledri' 'seledri' 'seledri']\n"
     ]
    }
   ],
   "source": [
    "print(labels)"
   ]
  },
  {
   "cell_type": "markdown",
   "id": "8df0182e",
   "metadata": {},
   "source": [
    "## Label Binarizer"
   ]
  },
  {
   "cell_type": "code",
   "execution_count": 32,
   "id": "403c2216",
   "metadata": {},
   "outputs": [
    {
     "name": "stdout",
     "output_type": "stream",
     "text": [
      "[[1]\n",
      " [1]\n",
      " [1]\n",
      " [1]\n",
      " [1]\n",
      " [1]\n",
      " [1]\n",
      " [1]\n",
      " [1]\n",
      " [1]\n",
      " [1]\n",
      " [1]\n",
      " [1]\n",
      " [1]\n",
      " [1]\n",
      " [1]\n",
      " [1]\n",
      " [1]\n",
      " [1]\n",
      " [1]\n",
      " [1]\n",
      " [1]\n",
      " [1]\n",
      " [1]\n",
      " [1]\n",
      " [1]\n",
      " [1]\n",
      " [1]\n",
      " [1]\n",
      " [1]\n",
      " [1]\n",
      " [1]\n",
      " [1]\n",
      " [1]\n",
      " [1]\n",
      " [1]\n",
      " [1]\n",
      " [1]\n",
      " [1]\n",
      " [1]\n",
      " [1]\n",
      " [1]\n",
      " [1]\n",
      " [1]\n",
      " [1]\n",
      " [1]\n",
      " [1]\n",
      " [1]\n",
      " [1]\n",
      " [1]\n",
      " [1]\n",
      " [1]\n",
      " [1]\n",
      " [1]\n",
      " [1]\n",
      " [1]\n",
      " [1]\n",
      " [1]\n",
      " [1]\n",
      " [1]\n",
      " [1]\n",
      " [1]\n",
      " [1]\n",
      " [1]\n",
      " [1]\n",
      " [1]\n",
      " [1]\n",
      " [1]\n",
      " [1]\n",
      " [1]\n",
      " [1]\n",
      " [1]\n",
      " [1]\n",
      " [1]\n",
      " [1]\n",
      " [1]\n",
      " [1]\n",
      " [1]\n",
      " [1]\n",
      " [1]\n",
      " [1]\n",
      " [1]\n",
      " [1]\n",
      " [1]\n",
      " [1]\n",
      " [1]\n",
      " [1]\n",
      " [1]\n",
      " [1]\n",
      " [1]\n",
      " [1]\n",
      " [1]\n",
      " [1]\n",
      " [1]\n",
      " [1]\n",
      " [1]\n",
      " [1]\n",
      " [1]\n",
      " [1]\n",
      " [1]\n",
      " [0]\n",
      " [0]\n",
      " [0]\n",
      " [0]\n",
      " [0]\n",
      " [0]\n",
      " [0]\n",
      " [0]\n",
      " [0]\n",
      " [0]\n",
      " [0]\n",
      " [0]\n",
      " [0]\n",
      " [0]\n",
      " [0]\n",
      " [0]\n",
      " [0]\n",
      " [0]\n",
      " [0]\n",
      " [0]\n",
      " [0]\n",
      " [0]\n",
      " [0]\n",
      " [0]\n",
      " [0]\n",
      " [0]\n",
      " [0]\n",
      " [0]\n",
      " [0]\n",
      " [0]\n",
      " [0]\n",
      " [0]\n",
      " [0]\n",
      " [0]\n",
      " [0]\n",
      " [0]\n",
      " [0]\n",
      " [0]\n",
      " [0]\n",
      " [0]\n",
      " [0]\n",
      " [0]\n",
      " [0]\n",
      " [0]\n",
      " [0]\n",
      " [0]\n",
      " [0]\n",
      " [0]\n",
      " [0]\n",
      " [0]\n",
      " [0]\n",
      " [0]\n",
      " [0]\n",
      " [0]\n",
      " [0]\n",
      " [0]\n",
      " [0]\n",
      " [0]\n",
      " [0]\n",
      " [0]\n",
      " [0]\n",
      " [0]\n",
      " [0]\n",
      " [0]\n",
      " [0]\n",
      " [0]\n",
      " [0]\n",
      " [0]\n",
      " [0]\n",
      " [0]\n",
      " [0]\n",
      " [0]\n",
      " [0]\n",
      " [0]\n",
      " [0]\n",
      " [0]\n",
      " [0]\n",
      " [0]\n",
      " [0]\n",
      " [0]\n",
      " [0]\n",
      " [0]\n",
      " [0]\n",
      " [0]\n",
      " [0]\n",
      " [0]\n",
      " [0]\n",
      " [0]\n",
      " [0]\n",
      " [0]\n",
      " [0]\n",
      " [0]\n",
      " [0]\n",
      " [0]\n",
      " [0]\n",
      " [0]\n",
      " [0]\n",
      " [0]\n",
      " [0]\n",
      " [0]]\n"
     ]
    }
   ],
   "source": [
    "lb = LabelBinarizer()\n",
    "labels = lb.fit_transform(labels)\n",
    "print(labels)\n",
    "\n",
    "# 1: Sirih\n",
    "# 0: Seledri"
   ]
  },
  {
   "cell_type": "markdown",
   "id": "8e98c2d9",
   "metadata": {},
   "source": [
    "## Split Dataset"
   ]
  },
  {
   "cell_type": "code",
   "execution_count": 33,
   "id": "f088fc00",
   "metadata": {},
   "outputs": [],
   "source": [
    "x_train, x_test, y_train, y_test = train_test_split(data, labels, test_size=0.2, random_state=42)"
   ]
  },
  {
   "cell_type": "code",
   "execution_count": 34,
   "id": "015efb1c",
   "metadata": {},
   "outputs": [
    {
     "name": "stdout",
     "output_type": "stream",
     "text": [
      "Ukuran data train = (160, 32, 32, 3)\n",
      "Ukuran data test = (40, 32, 32, 3)\n"
     ]
    }
   ],
   "source": [
    "print('Ukuran data train =', x_train.shape)\n",
    "print('Ukuran data test =', x_test.shape)"
   ]
  },
  {
   "cell_type": "markdown",
   "id": "60539883",
   "metadata": {},
   "source": [
    "## ANN Architecture Modelling"
   ]
  },
  {
   "cell_type": "code",
   "execution_count": 103,
   "id": "04125166",
   "metadata": {},
   "outputs": [],
   "source": [
    "model = Sequential()\n",
    "# Extracted Feature Layer\n",
    "model.add(InputLayer(input_shape=[32,32,3]))\n",
    "model.add(Conv2D(filters=32, kernel_size=2, strides=1, padding='same', activation='relu'))\n",
    "model.add(MaxPool2D(pool_size=2, padding='same'))\n",
    "# model.add(Conv2D(filters=50, kernel_size=2, strides=1, padding='same', activation='relu'))\n",
    "# model.add(MaxPool2D(pool_size=2, padding='same'))\n",
    "model.add(Dropout(0.25))\n",
    "model.add(Flatten())\n",
    "# Fully Connected Layer\n",
    "model.add(Dense(64, activation='relu'))\n",
    "model.add(Dropout(0.5))\n",
    "model.add(Dense(1, activation='sigmoid'))"
   ]
  },
  {
   "cell_type": "code",
   "execution_count": 104,
   "id": "8fc10997",
   "metadata": {},
   "outputs": [
    {
     "name": "stdout",
     "output_type": "stream",
     "text": [
      "Model: \"sequential_5\"\n",
      "_________________________________________________________________\n",
      " Layer (type)                Output Shape              Param #   \n",
      "=================================================================\n",
      " conv2d_10 (Conv2D)          (None, 32, 32, 32)        416       \n",
      "                                                                 \n",
      " max_pooling2d_10 (MaxPoolin  (None, 16, 16, 32)       0         \n",
      " g2D)                                                            \n",
      "                                                                 \n",
      " dropout_10 (Dropout)        (None, 16, 16, 32)        0         \n",
      "                                                                 \n",
      " flatten_5 (Flatten)         (None, 8192)              0         \n",
      "                                                                 \n",
      " dense_10 (Dense)            (None, 64)                524352    \n",
      "                                                                 \n",
      " dropout_11 (Dropout)        (None, 64)                0         \n",
      "                                                                 \n",
      " dense_11 (Dense)            (None, 1)                 65        \n",
      "                                                                 \n",
      "=================================================================\n",
      "Total params: 524,833\n",
      "Trainable params: 524,833\n",
      "Non-trainable params: 0\n",
      "_________________________________________________________________\n"
     ]
    }
   ],
   "source": [
    "model.summary()"
   ]
  },
  {
   "cell_type": "code",
   "execution_count": 105,
   "id": "6a97fb93",
   "metadata": {},
   "outputs": [],
   "source": [
    "# hyperparameter setting\n",
    "lr = 0.001\n",
    "max_epochs = 100\n",
    "opt_funct = Adam(learning_rate=lr)"
   ]
  },
  {
   "cell_type": "code",
   "execution_count": 106,
   "id": "de3f9d13",
   "metadata": {},
   "outputs": [],
   "source": [
    "model.compile(loss = 'binary_crossentropy', \n",
    "              optimizer = opt_funct, \n",
    "              metrics = ['accuracy'])"
   ]
  },
  {
   "cell_type": "code",
   "execution_count": 107,
   "id": "09b32c38",
   "metadata": {},
   "outputs": [
    {
     "name": "stdout",
     "output_type": "stream",
     "text": [
      "Epoch 1/100\n",
      "5/5 [==============================] - 1s 56ms/step - loss: 0.7850 - accuracy: 0.5500 - val_loss: 0.6310 - val_accuracy: 0.4750\n",
      "Epoch 2/100\n",
      "5/5 [==============================] - 0s 27ms/step - loss: 0.6203 - accuracy: 0.6875 - val_loss: 0.5300 - val_accuracy: 0.7000\n",
      "Epoch 3/100\n",
      "5/5 [==============================] - 0s 25ms/step - loss: 0.5672 - accuracy: 0.7312 - val_loss: 0.4249 - val_accuracy: 0.8500\n",
      "Epoch 4/100\n",
      "5/5 [==============================] - 0s 25ms/step - loss: 0.4359 - accuracy: 0.8438 - val_loss: 0.3264 - val_accuracy: 0.9750\n",
      "Epoch 5/100\n",
      "5/5 [==============================] - 0s 25ms/step - loss: 0.3363 - accuracy: 0.8750 - val_loss: 0.2781 - val_accuracy: 0.9000\n",
      "Epoch 6/100\n",
      "5/5 [==============================] - 0s 24ms/step - loss: 0.2888 - accuracy: 0.9250 - val_loss: 0.2316 - val_accuracy: 0.9750\n",
      "Epoch 7/100\n",
      "5/5 [==============================] - 0s 24ms/step - loss: 0.2610 - accuracy: 0.9000 - val_loss: 0.2084 - val_accuracy: 0.9750\n",
      "Epoch 8/100\n",
      "5/5 [==============================] - 0s 24ms/step - loss: 0.2375 - accuracy: 0.9125 - val_loss: 0.1968 - val_accuracy: 0.9750\n",
      "Epoch 9/100\n",
      "5/5 [==============================] - 0s 26ms/step - loss: 0.1933 - accuracy: 0.9563 - val_loss: 0.1655 - val_accuracy: 0.9750\n",
      "Epoch 10/100\n",
      "5/5 [==============================] - 0s 24ms/step - loss: 0.1544 - accuracy: 0.9500 - val_loss: 0.1713 - val_accuracy: 0.9750\n",
      "Epoch 11/100\n",
      "5/5 [==============================] - 0s 26ms/step - loss: 0.1285 - accuracy: 0.9688 - val_loss: 0.1501 - val_accuracy: 0.9750\n",
      "Epoch 12/100\n",
      "5/5 [==============================] - 0s 24ms/step - loss: 0.1305 - accuracy: 0.9688 - val_loss: 0.1334 - val_accuracy: 0.9750\n",
      "Epoch 13/100\n",
      "5/5 [==============================] - 0s 25ms/step - loss: 0.1146 - accuracy: 0.9625 - val_loss: 0.1867 - val_accuracy: 0.9250\n",
      "Epoch 14/100\n",
      "5/5 [==============================] - 0s 25ms/step - loss: 0.1581 - accuracy: 0.9312 - val_loss: 0.1308 - val_accuracy: 0.9750\n",
      "Epoch 15/100\n",
      "5/5 [==============================] - 0s 24ms/step - loss: 0.1004 - accuracy: 0.9875 - val_loss: 0.1795 - val_accuracy: 0.9500\n",
      "Epoch 16/100\n",
      "5/5 [==============================] - 0s 24ms/step - loss: 0.1239 - accuracy: 0.9438 - val_loss: 0.1373 - val_accuracy: 0.9750\n",
      "Epoch 17/100\n",
      "5/5 [==============================] - 0s 26ms/step - loss: 0.0963 - accuracy: 0.9812 - val_loss: 0.1389 - val_accuracy: 0.9750\n",
      "Epoch 18/100\n",
      "5/5 [==============================] - 0s 29ms/step - loss: 0.0728 - accuracy: 0.9875 - val_loss: 0.1185 - val_accuracy: 0.9750\n",
      "Epoch 19/100\n",
      "5/5 [==============================] - 0s 25ms/step - loss: 0.0682 - accuracy: 0.9812 - val_loss: 0.1182 - val_accuracy: 0.9750\n",
      "Epoch 20/100\n",
      "5/5 [==============================] - 0s 26ms/step - loss: 0.0678 - accuracy: 0.9875 - val_loss: 0.1503 - val_accuracy: 0.9750\n",
      "Epoch 21/100\n",
      "5/5 [==============================] - 0s 28ms/step - loss: 0.0688 - accuracy: 0.9750 - val_loss: 0.1224 - val_accuracy: 0.9750\n",
      "Epoch 22/100\n",
      "5/5 [==============================] - 0s 25ms/step - loss: 0.0874 - accuracy: 0.9625 - val_loss: 0.1129 - val_accuracy: 0.9750\n",
      "Epoch 23/100\n",
      "5/5 [==============================] - 0s 25ms/step - loss: 0.0586 - accuracy: 0.9875 - val_loss: 0.1640 - val_accuracy: 0.9500\n",
      "Epoch 24/100\n",
      "5/5 [==============================] - 0s 30ms/step - loss: 0.0708 - accuracy: 0.9688 - val_loss: 0.1050 - val_accuracy: 0.9500\n",
      "Epoch 25/100\n",
      "5/5 [==============================] - 0s 26ms/step - loss: 0.0642 - accuracy: 0.9812 - val_loss: 0.1349 - val_accuracy: 0.9750\n",
      "Epoch 26/100\n",
      "5/5 [==============================] - 0s 29ms/step - loss: 0.0355 - accuracy: 1.0000 - val_loss: 0.1531 - val_accuracy: 0.9500\n",
      "Epoch 27/100\n",
      "5/5 [==============================] - 0s 36ms/step - loss: 0.0286 - accuracy: 1.0000 - val_loss: 0.1193 - val_accuracy: 0.9750\n",
      "Epoch 28/100\n",
      "5/5 [==============================] - 0s 36ms/step - loss: 0.0352 - accuracy: 0.9937 - val_loss: 0.1415 - val_accuracy: 0.9750\n",
      "Epoch 29/100\n",
      "5/5 [==============================] - 0s 33ms/step - loss: 0.0313 - accuracy: 1.0000 - val_loss: 0.1258 - val_accuracy: 0.9750\n",
      "Epoch 30/100\n",
      "5/5 [==============================] - 0s 31ms/step - loss: 0.0393 - accuracy: 0.9875 - val_loss: 0.1027 - val_accuracy: 0.9750\n",
      "Epoch 31/100\n",
      "5/5 [==============================] - 0s 33ms/step - loss: 0.0513 - accuracy: 0.9875 - val_loss: 0.1225 - val_accuracy: 0.9750\n",
      "Epoch 32/100\n",
      "5/5 [==============================] - 0s 32ms/step - loss: 0.0328 - accuracy: 0.9937 - val_loss: 0.1373 - val_accuracy: 0.9750\n",
      "Epoch 33/100\n",
      "5/5 [==============================] - 0s 37ms/step - loss: 0.0262 - accuracy: 1.0000 - val_loss: 0.1309 - val_accuracy: 0.9750\n",
      "Epoch 34/100\n",
      "5/5 [==============================] - 0s 39ms/step - loss: 0.0230 - accuracy: 1.0000 - val_loss: 0.1190 - val_accuracy: 0.9750\n",
      "Epoch 35/100\n",
      "5/5 [==============================] - 0s 34ms/step - loss: 0.0263 - accuracy: 1.0000 - val_loss: 0.1255 - val_accuracy: 0.9750\n",
      "Epoch 36/100\n",
      "5/5 [==============================] - 0s 33ms/step - loss: 0.0365 - accuracy: 0.9937 - val_loss: 0.1193 - val_accuracy: 0.9750\n",
      "Epoch 37/100\n",
      "5/5 [==============================] - 0s 30ms/step - loss: 0.0202 - accuracy: 1.0000 - val_loss: 0.1144 - val_accuracy: 0.9750\n",
      "Epoch 38/100\n",
      "5/5 [==============================] - 0s 31ms/step - loss: 0.0300 - accuracy: 0.9937 - val_loss: 0.1162 - val_accuracy: 0.9750\n",
      "Epoch 39/100\n",
      "5/5 [==============================] - 0s 28ms/step - loss: 0.0305 - accuracy: 1.0000 - val_loss: 0.1498 - val_accuracy: 0.9500\n",
      "Epoch 40/100\n",
      "5/5 [==============================] - 0s 30ms/step - loss: 0.0182 - accuracy: 1.0000 - val_loss: 0.1226 - val_accuracy: 0.9750\n",
      "Epoch 41/100\n",
      "5/5 [==============================] - 0s 34ms/step - loss: 0.0139 - accuracy: 1.0000 - val_loss: 0.1123 - val_accuracy: 0.9750\n",
      "Epoch 42/100\n",
      "5/5 [==============================] - 0s 30ms/step - loss: 0.0247 - accuracy: 0.9937 - val_loss: 0.1677 - val_accuracy: 0.9500\n",
      "Epoch 43/100\n",
      "5/5 [==============================] - 0s 28ms/step - loss: 0.0167 - accuracy: 1.0000 - val_loss: 0.1428 - val_accuracy: 0.9750\n",
      "Epoch 44/100\n",
      "5/5 [==============================] - 0s 32ms/step - loss: 0.0218 - accuracy: 1.0000 - val_loss: 0.1100 - val_accuracy: 0.9750\n",
      "Epoch 45/100\n",
      "5/5 [==============================] - 0s 29ms/step - loss: 0.0187 - accuracy: 1.0000 - val_loss: 0.1074 - val_accuracy: 0.9750\n",
      "Epoch 46/100\n",
      "5/5 [==============================] - 0s 38ms/step - loss: 0.0210 - accuracy: 0.9937 - val_loss: 0.1327 - val_accuracy: 0.9750\n",
      "Epoch 47/100\n",
      "5/5 [==============================] - 0s 28ms/step - loss: 0.0137 - accuracy: 1.0000 - val_loss: 0.1522 - val_accuracy: 0.9750\n",
      "Epoch 48/100\n",
      "5/5 [==============================] - 0s 32ms/step - loss: 0.0131 - accuracy: 1.0000 - val_loss: 0.1222 - val_accuracy: 0.9750\n",
      "Epoch 49/100\n",
      "5/5 [==============================] - 0s 31ms/step - loss: 0.0189 - accuracy: 1.0000 - val_loss: 0.1265 - val_accuracy: 0.9750\n",
      "Epoch 50/100\n",
      "5/5 [==============================] - 0s 27ms/step - loss: 0.0083 - accuracy: 1.0000 - val_loss: 0.1582 - val_accuracy: 0.9500\n",
      "Epoch 51/100\n",
      "5/5 [==============================] - 0s 28ms/step - loss: 0.0155 - accuracy: 1.0000 - val_loss: 0.1583 - val_accuracy: 0.9500\n",
      "Epoch 52/100\n",
      "5/5 [==============================] - 0s 38ms/step - loss: 0.0195 - accuracy: 0.9937 - val_loss: 0.1030 - val_accuracy: 0.9500\n",
      "Epoch 53/100\n",
      "5/5 [==============================] - 0s 36ms/step - loss: 0.0341 - accuracy: 0.9875 - val_loss: 0.1260 - val_accuracy: 0.9750\n",
      "Epoch 54/100\n",
      "5/5 [==============================] - 0s 35ms/step - loss: 0.0156 - accuracy: 1.0000 - val_loss: 0.2539 - val_accuracy: 0.9000\n",
      "Epoch 55/100\n",
      "5/5 [==============================] - 0s 39ms/step - loss: 0.0219 - accuracy: 0.9937 - val_loss: 0.1264 - val_accuracy: 0.9750\n",
      "Epoch 56/100\n",
      "5/5 [==============================] - 0s 39ms/step - loss: 0.0135 - accuracy: 1.0000 - val_loss: 0.1055 - val_accuracy: 0.9500\n",
      "Epoch 57/100\n",
      "5/5 [==============================] - 0s 34ms/step - loss: 0.0151 - accuracy: 1.0000 - val_loss: 0.1340 - val_accuracy: 0.9750\n",
      "Epoch 58/100\n",
      "5/5 [==============================] - 0s 39ms/step - loss: 0.0164 - accuracy: 1.0000 - val_loss: 0.1785 - val_accuracy: 0.9500\n",
      "Epoch 59/100\n"
     ]
    },
    {
     "name": "stdout",
     "output_type": "stream",
     "text": [
      "5/5 [==============================] - 0s 36ms/step - loss: 0.0212 - accuracy: 0.9937 - val_loss: 0.1289 - val_accuracy: 0.9750\n",
      "Epoch 60/100\n",
      "5/5 [==============================] - 0s 39ms/step - loss: 0.0102 - accuracy: 1.0000 - val_loss: 0.1127 - val_accuracy: 0.9750\n",
      "Epoch 61/100\n",
      "5/5 [==============================] - 0s 33ms/step - loss: 0.0154 - accuracy: 1.0000 - val_loss: 0.1258 - val_accuracy: 0.9750\n",
      "Epoch 62/100\n",
      "5/5 [==============================] - 0s 37ms/step - loss: 0.0142 - accuracy: 1.0000 - val_loss: 0.1357 - val_accuracy: 0.9750\n",
      "Epoch 63/100\n",
      "5/5 [==============================] - 0s 39ms/step - loss: 0.0103 - accuracy: 1.0000 - val_loss: 0.1291 - val_accuracy: 0.9750\n",
      "Epoch 64/100\n",
      "5/5 [==============================] - 0s 36ms/step - loss: 0.0096 - accuracy: 1.0000 - val_loss: 0.1281 - val_accuracy: 0.9750\n",
      "Epoch 65/100\n",
      "5/5 [==============================] - 0s 34ms/step - loss: 0.0047 - accuracy: 1.0000 - val_loss: 0.1353 - val_accuracy: 0.9750\n",
      "Epoch 66/100\n",
      "5/5 [==============================] - 0s 49ms/step - loss: 0.0065 - accuracy: 1.0000 - val_loss: 0.1407 - val_accuracy: 0.9750\n",
      "Epoch 67/100\n",
      "5/5 [==============================] - 0s 32ms/step - loss: 0.0096 - accuracy: 1.0000 - val_loss: 0.1342 - val_accuracy: 0.9750\n",
      "Epoch 68/100\n",
      "5/5 [==============================] - 0s 33ms/step - loss: 0.0082 - accuracy: 1.0000 - val_loss: 0.1474 - val_accuracy: 0.9750\n",
      "Epoch 69/100\n",
      "5/5 [==============================] - 0s 35ms/step - loss: 0.0077 - accuracy: 1.0000 - val_loss: 0.1432 - val_accuracy: 0.9750\n",
      "Epoch 70/100\n",
      "5/5 [==============================] - 0s 40ms/step - loss: 0.0046 - accuracy: 1.0000 - val_loss: 0.1437 - val_accuracy: 0.9750\n",
      "Epoch 71/100\n",
      "5/5 [==============================] - 0s 34ms/step - loss: 0.0203 - accuracy: 0.9937 - val_loss: 0.1712 - val_accuracy: 0.9500\n",
      "Epoch 72/100\n",
      "5/5 [==============================] - 0s 36ms/step - loss: 0.0051 - accuracy: 1.0000 - val_loss: 0.1715 - val_accuracy: 0.9500\n",
      "Epoch 73/100\n",
      "5/5 [==============================] - 0s 34ms/step - loss: 0.0086 - accuracy: 1.0000 - val_loss: 0.1516 - val_accuracy: 0.9750\n",
      "Epoch 74/100\n",
      "5/5 [==============================] - 0s 33ms/step - loss: 0.0118 - accuracy: 1.0000 - val_loss: 0.1285 - val_accuracy: 0.9750\n",
      "Epoch 75/100\n",
      "5/5 [==============================] - 0s 48ms/step - loss: 0.0140 - accuracy: 0.9937 - val_loss: 0.1300 - val_accuracy: 0.9750\n",
      "Epoch 76/100\n",
      "5/5 [==============================] - 0s 42ms/step - loss: 0.0054 - accuracy: 1.0000 - val_loss: 0.1508 - val_accuracy: 0.9750\n",
      "Epoch 77/100\n",
      "5/5 [==============================] - 0s 31ms/step - loss: 0.0068 - accuracy: 1.0000 - val_loss: 0.1622 - val_accuracy: 0.9750\n",
      "Epoch 78/100\n",
      "5/5 [==============================] - 0s 36ms/step - loss: 0.0052 - accuracy: 1.0000 - val_loss: 0.1699 - val_accuracy: 0.9500\n",
      "Epoch 79/100\n",
      "5/5 [==============================] - 0s 38ms/step - loss: 0.0034 - accuracy: 1.0000 - val_loss: 0.1536 - val_accuracy: 0.9750\n",
      "Epoch 80/100\n",
      "5/5 [==============================] - 0s 34ms/step - loss: 0.0103 - accuracy: 0.9937 - val_loss: 0.1347 - val_accuracy: 0.9750\n",
      "Epoch 81/100\n",
      "5/5 [==============================] - 0s 31ms/step - loss: 0.0067 - accuracy: 1.0000 - val_loss: 0.1523 - val_accuracy: 0.9750\n",
      "Epoch 82/100\n",
      "5/5 [==============================] - 0s 48ms/step - loss: 0.0057 - accuracy: 1.0000 - val_loss: 0.1633 - val_accuracy: 0.9750\n",
      "Epoch 83/100\n",
      "5/5 [==============================] - 0s 41ms/step - loss: 0.0075 - accuracy: 1.0000 - val_loss: 0.1628 - val_accuracy: 0.9750\n",
      "Epoch 84/100\n",
      "5/5 [==============================] - 0s 35ms/step - loss: 0.0046 - accuracy: 1.0000 - val_loss: 0.1453 - val_accuracy: 0.9750\n",
      "Epoch 85/100\n",
      "5/5 [==============================] - 0s 36ms/step - loss: 0.0059 - accuracy: 1.0000 - val_loss: 0.1318 - val_accuracy: 0.9750\n",
      "Epoch 86/100\n",
      "5/5 [==============================] - 0s 31ms/step - loss: 0.0058 - accuracy: 1.0000 - val_loss: 0.1368 - val_accuracy: 0.9750\n",
      "Epoch 87/100\n",
      "5/5 [==============================] - 0s 46ms/step - loss: 0.0034 - accuracy: 1.0000 - val_loss: 0.1543 - val_accuracy: 0.9750\n",
      "Epoch 88/100\n",
      "5/5 [==============================] - 0s 36ms/step - loss: 0.0041 - accuracy: 1.0000 - val_loss: 0.1681 - val_accuracy: 0.9750\n",
      "Epoch 89/100\n",
      "5/5 [==============================] - 0s 34ms/step - loss: 0.0037 - accuracy: 1.0000 - val_loss: 0.1756 - val_accuracy: 0.9750\n",
      "Epoch 90/100\n",
      "5/5 [==============================] - 0s 39ms/step - loss: 0.0025 - accuracy: 1.0000 - val_loss: 0.1643 - val_accuracy: 0.9750\n",
      "Epoch 91/100\n",
      "5/5 [==============================] - 0s 38ms/step - loss: 0.0108 - accuracy: 0.9937 - val_loss: 0.1256 - val_accuracy: 0.9500\n",
      "Epoch 92/100\n",
      "5/5 [==============================] - 0s 43ms/step - loss: 0.0104 - accuracy: 1.0000 - val_loss: 0.1224 - val_accuracy: 0.9500\n",
      "Epoch 93/100\n",
      "5/5 [==============================] - 0s 39ms/step - loss: 0.0077 - accuracy: 1.0000 - val_loss: 0.1248 - val_accuracy: 0.9500\n",
      "Epoch 94/100\n",
      "5/5 [==============================] - 0s 43ms/step - loss: 0.0086 - accuracy: 1.0000 - val_loss: 0.1324 - val_accuracy: 0.9750\n",
      "Epoch 95/100\n",
      "5/5 [==============================] - 0s 36ms/step - loss: 0.0062 - accuracy: 1.0000 - val_loss: 0.1360 - val_accuracy: 0.9750\n",
      "Epoch 96/100\n",
      "5/5 [==============================] - 0s 40ms/step - loss: 0.0044 - accuracy: 1.0000 - val_loss: 0.1462 - val_accuracy: 0.9750\n",
      "Epoch 97/100\n",
      "5/5 [==============================] - 0s 37ms/step - loss: 0.0039 - accuracy: 1.0000 - val_loss: 0.1713 - val_accuracy: 0.9750\n",
      "Epoch 98/100\n",
      "5/5 [==============================] - 0s 43ms/step - loss: 0.0078 - accuracy: 1.0000 - val_loss: 0.1909 - val_accuracy: 0.9500\n",
      "Epoch 99/100\n",
      "5/5 [==============================] - 0s 34ms/step - loss: 0.0042 - accuracy: 1.0000 - val_loss: 0.1877 - val_accuracy: 0.9500\n",
      "Epoch 100/100\n",
      "5/5 [==============================] - 0s 40ms/step - loss: 0.0040 - accuracy: 1.0000 - val_loss: 0.1678 - val_accuracy: 0.9750\n",
      "Time taken: 16.1 seconds\n"
     ]
    }
   ],
   "source": [
    "times = time.time()\n",
    "H = model.fit(x_train, y_train, validation_data=(x_test, y_test), \n",
    "          epochs=max_epochs, batch_size=32)\n",
    "print(\"Time taken: {:.1f} seconds\".format(time.time() - times))"
   ]
  },
  {
   "cell_type": "markdown",
   "id": "b72d579a",
   "metadata": {},
   "source": [
    "## Model Evaluation"
   ]
  },
  {
   "cell_type": "code",
   "execution_count": 108,
   "id": "740c6e66",
   "metadata": {},
   "outputs": [
    {
     "name": "stdout",
     "output_type": "stream",
     "text": [
      "              precision    recall  f1-score   support\n",
      "\n",
      "       sirih       1.00      0.95      0.97        19\n",
      "     seledri       0.95      1.00      0.98        21\n",
      "\n",
      "    accuracy                           0.97        40\n",
      "   macro avg       0.98      0.97      0.97        40\n",
      "weighted avg       0.98      0.97      0.97        40\n",
      "\n"
     ]
    },
    {
     "name": "stderr",
     "output_type": "stream",
     "text": [
      "<ipython-input-108-b6245a92792e>:3: DeprecationWarning: `np.int` is a deprecated alias for the builtin `int`. To silence this warning, use `int` by itself. Doing this will not modify any behavior and is safe. When replacing `np.int`, you may wish to use e.g. `np.int64` or `np.int32` to specify the precision. If you wish to review your current use, check the release note link for additional information.\n",
      "Deprecated in NumPy 1.20; for more details and guidance: https://numpy.org/devdocs/release/1.20.0-notes.html#deprecations\n",
      "  target = (predictions > 0.5).astype(np.int)\n"
     ]
    }
   ],
   "source": [
    "# check acccuracy model for data test\n",
    "predictions = model.predict(x_test, batch_size=32)\n",
    "target = (predictions > 0.5).astype(np.int)\n",
    "print(classification_report(y_test, target, target_names=label_list))"
   ]
  },
  {
   "cell_type": "markdown",
   "id": "5bff4e8f",
   "metadata": {},
   "source": [
    "## Model Visualize"
   ]
  },
  {
   "cell_type": "code",
   "execution_count": 109,
   "id": "fe5c6568",
   "metadata": {},
   "outputs": [
    {
     "data": {
      "image/png": "[encoded data removed]",
      "text/plain": [
       "<Figure size 720x576 with 1 Axes>"
      ]
     },
     "metadata": {},
     "output_type": "display_data"
    }
   ],
   "source": [
    "# Plot Training and Validation Loss\n",
    "\n",
    "N = np.arange(0, max_epochs)\n",
    "plt.style.use(\"ggplot\")\n",
    "plt.figure(figsize = [10,8])\n",
    "plt.plot(N, H.history[\"loss\"], label=\"train_loss\")\n",
    "plt.plot(N, H.history[\"val_loss\"], label=\"val_loss\")\n",
    "plt.title(\"Training and Validation Loss using ANN Architecture\")\n",
    "plt.xlabel(\"Epoch #\", weight=\"bold\")\n",
    "plt.ylabel(\"Loss\", weight=\"bold\")\n",
    "plt.legend()\n",
    "plt.show()"
   ]
  },
  {
   "cell_type": "code",
   "execution_count": 110,
   "id": "3bd67e9d",
   "metadata": {},
   "outputs": [
    {
     "data": {
      "image/png": "[encoded data removed]",
      "text/plain": [
       "<Figure size 720x576 with 1 Axes>"
      ]
     },
     "metadata": {},
     "output_type": "display_data"
    }
   ],
   "source": [
    "# Plot Training and Validation Accuracy\n",
    "\n",
    "N = np.arange(0, max_epochs)\n",
    "plt.style.use(\"ggplot\")\n",
    "plt.figure(figsize = [10,8])\n",
    "plt.plot(N, H.history[\"accuracy\"], label=\"train_acc\")\n",
    "plt.plot(N, H.history[\"val_accuracy\"], label=\"val_acc\")\n",
    "plt.title(\"Training and Validation Accuracy using ANN Architecture\")\n",
    "plt.xlabel(\"Epoch #\", weight=\"bold\")\n",
    "plt.ylabel(\"Accuracy\", weight=\"bold\")\n",
    "plt.legend()\n",
    "plt.show()"
   ]
  },
  {
   "cell_type": "markdown",
   "id": "d37dcc27",
   "metadata": {},
   "source": [
    "## Check Model"
   ]
  },
  {
   "cell_type": "code",
   "execution_count": 111,
   "id": "c9495ffc",
   "metadata": {},
   "outputs": [
    {
     "name": "stdout",
     "output_type": "stream",
     "text": [
      "[[2.741896e-06]]\n"
     ]
    }
   ],
   "source": [
    "queryPath = imagePaths + 'check_seledri.jpg'\n",
    "query = cv2.imread(queryPath)\n",
    "output = query.copy()\n",
    "query = cv2.resize(query, (32, 32))\n",
    "q = []\n",
    "q.append(query)\n",
    "q = np.array(q, dtype='float') / 255.0\n",
    "\n",
    "q_pred = model.predict(q)\n",
    "print(q_pred)"
   ]
  },
  {
   "cell_type": "code",
   "execution_count": 112,
   "id": "8a369bb9",
   "metadata": {},
   "outputs": [
    {
     "ename": "error",
     "evalue": "OpenCV(4.5.4-dev) D:\\a\\opencv-python\\opencv-python\\opencv\\modules\\highgui\\src\\window_w32.cpp:1261: error: (-27:Null pointer) NULL window: 'Output' in function 'cvDestroyWindow'\n",
     "output_type": "error",
     "traceback": [
      "\u001b[1;31m---------------------------------------------------------------------------\u001b[0m",
      "\u001b[1;31merror\u001b[0m                                     Traceback (most recent call last)",
      "\u001b[1;32m<ipython-input-112-166e89ae0107>\u001b[0m in \u001b[0;36m<module>\u001b[1;34m\u001b[0m\n\u001b[0;32m      8\u001b[0m \u001b[0mcv2\u001b[0m\u001b[1;33m.\u001b[0m\u001b[0mimshow\u001b[0m\u001b[1;33m(\u001b[0m\u001b[1;34m'Output'\u001b[0m\u001b[1;33m,\u001b[0m \u001b[0moutput\u001b[0m\u001b[1;33m)\u001b[0m\u001b[1;33m\u001b[0m\u001b[1;33m\u001b[0m\u001b[0m\n\u001b[0;32m      9\u001b[0m \u001b[0mcv2\u001b[0m\u001b[1;33m.\u001b[0m\u001b[0mwaitKey\u001b[0m\u001b[1;33m(\u001b[0m\u001b[1;33m)\u001b[0m\u001b[1;33m\u001b[0m\u001b[1;33m\u001b[0m\u001b[0m\n\u001b[1;32m---> 10\u001b[1;33m \u001b[0mcv2\u001b[0m\u001b[1;33m.\u001b[0m\u001b[0mdestroyWindow\u001b[0m\u001b[1;33m(\u001b[0m\u001b[1;34m'Output'\u001b[0m\u001b[1;33m)\u001b[0m\u001b[1;33m\u001b[0m\u001b[1;33m\u001b[0m\u001b[0m\n\u001b[0m",
      "\u001b[1;31merror\u001b[0m: OpenCV(4.5.4-dev) D:\\a\\opencv-python\\opencv-python\\opencv\\modules\\highgui\\src\\window_w32.cpp:1261: error: (-27:Null pointer) NULL window: 'Output' in function 'cvDestroyWindow'\n"
     ]
    }
   ],
   "source": [
    "if q_pred <= 0.5 :\n",
    "    target = \"Seledri\"\n",
    "else :\n",
    "    target = \"Seledri\"\n",
    "text = \"{}\".format(target)\n",
    "cv2.putText(output, text, (10, 30), cv2.FONT_HERSHEY_SIMPLEX, 0.7, (0, 0, 255), 2)\n",
    " \n",
    "cv2.imshow('Output', output)\n",
    "cv2.waitKey() \n",
    "cv2.destroyWindow('Output')"
   ]
  },
  {
   "cell_type": "code",
   "execution_count": null,
   "id": "fb845326",
   "metadata": {},
   "outputs": [],
   "source": []
  }
 ],
 "metadata": {
  "kernelspec": {
   "display_name": "Python 3",
   "language": "python",
   "name": "python3"
  },
  "language_info": {
   "codemirror_mode": {
    "name": "ipython",
    "version": 3
   },
   "file_extension": ".py",
   "mimetype": "text/x-python",
   "name": "python",
   "nbconvert_exporter": "python",
   "pygments_lexer": "ipython3",
   "version": "3.9.4"
  }
 },
 "nbformat": 4,
 "nbformat_minor": 5
}
