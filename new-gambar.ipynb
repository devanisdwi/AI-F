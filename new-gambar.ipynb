{
 "cells": [
  {
   "cell_type": "code",
   "execution_count": null,
   "metadata": {},
   "outputs": [],
   "source": [
    "from rembg.bg import remove\n",
    "import numpy as np\n",
    "import io\n",
    "from PIL import Image"
   ]
  },
  {
   "cell_type": "code",
   "execution_count": null,
   "metadata": {},
   "outputs": [],
   "source": [
    "from PIL import ImageFile\n",
    "ImageFile.LOAD_TRUNCATED_IMAGES = True"
   ]
  },
  {
   "cell_type": "code",
   "execution_count": null,
   "metadata": {
    "scrolled": false
   },
   "outputs": [],
   "source": [
    "import os\n",
    "path = r\"C:\\Users\\USER\\DevanisDwi\\Daun\\Seledri\"\n",
    "\n",
    "x = 1\n",
    "fill_color = (255,255,255)  # White Background Color\n",
    "\n",
    "for root, dirs, files in os.walk(path, topdown=False):\n",
    "    for name in files:\n",
    "        \n",
    "        f = np.fromfile(os.path.join(root, name))\n",
    "        result = remove(f)\n",
    "        \n",
    "        print(os.path.join(root, name))\n",
    "        \n",
    "        img = Image.open(io.BytesIO(result)).convert(\"RGBA\")\n",
    "        img = img.resize((1600,1200)) # Resize Image Dataset\n",
    "        \n",
    "        if img.mode in ('RGBA', 'LA'):\n",
    "            background = Image.new(img.mode[:-1], img.size, fill_color)\n",
    "            background.paste(img, img.split()[-1]) \n",
    "            img = background\n",
    "            \n",
    "        # Renaming File\n",
    "        if (x < 10):\n",
    "            img.convert(\"RGB\").save('Daun\\\\Seledri\\\\hasil\\\\'+'00'+str(x)+'.png')\n",
    "        elif (x < 100):\n",
    "            img.convert(\"RGB\").save('Daun\\\\Seledri\\\\hasil\\\\'+'0'+str(x)+'.png')\n",
    "        else:    \n",
    "            img.convert(\"RGB\").save('Daun\\\\Seledri\\\\hasil\\\\'+str(x)+'.png')\n",
    "        x = x + 1\n",
    "        "
   ]
  }
 ],
 "metadata": {
  "kernelspec": {
   "display_name": "Python 3",
   "language": "python",
   "name": "python3"
  },
  "language_info": {
   "codemirror_mode": {
    "name": "ipython",
    "version": 3
   },
   "file_extension": ".py",
   "mimetype": "text/x-python",
   "name": "python",
   "nbconvert_exporter": "python",
   "pygments_lexer": "ipython3",
   "version": "3.8.5"
  }
 },
 "nbformat": 4,
 "nbformat_minor": 4
}
