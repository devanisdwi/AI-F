{
 "cells": [
  {
   "cell_type": "markdown",
   "id": "92f94c43",
   "metadata": {},
   "source": [
    "## Import Modules"
   ]
  },
  {
   "cell_type": "code",
   "execution_count": 1,
   "id": "b33c359c",
   "metadata": {},
   "outputs": [],
   "source": [
    "from sklearn.model_selection import train_test_split\n",
    "from sklearn.preprocessing import LabelBinarizer\n",
    "from sklearn.metrics import classification_report\n",
    "from tensorflow.keras.models import Sequential\n",
    "from tensorflow.keras.layers import Flatten, Dense\n",
    "from tensorflow.keras.optimizers import Adam\n",
    "from keras.preprocessing import image\n",
    "import matplotlib.pyplot as plt\n",
    "import matplotlib.image as mpimg\n",
    "import numpy as np\n",
    "import cv2\n",
    "import glob\n",
    "import time\n",
    "%matplotlib inline"
   ]
  },
  {
   "cell_type": "markdown",
   "id": "9de60452",
   "metadata": {},
   "source": [
    "## Data Image Preparation "
   ]
  },
  {
   "cell_type": "code",
   "execution_count": 2,
   "id": "6cbd3cad",
   "metadata": {},
   "outputs": [],
   "source": [
    "imagePaths = 'dataset\\\\daun-herbal\\\\'\n",
    "label_list = ['sirih', 'seledri']\n",
    "data = []\n",
    "labels = []"
   ]
  },
  {
   "cell_type": "code",
   "execution_count": 3,
   "id": "af9544d5",
   "metadata": {},
   "outputs": [],
   "source": [
    "for label in label_list:\n",
    "    for imagePath in glob.glob(imagePaths+label+'\\\\*.jpg'):\n",
    "        #print(imagePath)\n",
    "        image = cv2.imread(imagePath)\n",
    "        image = cv2.resize(image, (32, 32))\n",
    "        data.append(image)\n",
    "        labels.append(label)"
   ]
  },
  {
   "cell_type": "code",
   "execution_count": 4,
   "id": "eeea21c2",
   "metadata": {},
   "outputs": [
    {
     "data": {
      "text/plain": [
       "(200, 32, 32, 3)"
      ]
     },
     "execution_count": 4,
     "metadata": {},
     "output_type": "execute_result"
    }
   ],
   "source": [
    "np.array(data).shape"
   ]
  },
  {
   "cell_type": "code",
   "execution_count": 5,
   "id": "91b429bb",
   "metadata": {},
   "outputs": [],
   "source": [
    "data = np.array(data, dtype='float') / 255.0\n",
    "labels = np.array(labels)"
   ]
  },
  {
   "cell_type": "code",
   "execution_count": 6,
   "id": "5ee88839",
   "metadata": {},
   "outputs": [
    {
     "name": "stdout",
     "output_type": "stream",
     "text": [
      "['sirih' 'sirih' 'sirih' 'sirih' 'sirih' 'sirih' 'sirih' 'sirih' 'sirih'\n",
      " 'sirih' 'sirih' 'sirih' 'sirih' 'sirih' 'sirih' 'sirih' 'sirih' 'sirih'\n",
      " 'sirih' 'sirih' 'sirih' 'sirih' 'sirih' 'sirih' 'sirih' 'sirih' 'sirih'\n",
      " 'sirih' 'sirih' 'sirih' 'sirih' 'sirih' 'sirih' 'sirih' 'sirih' 'sirih'\n",
      " 'sirih' 'sirih' 'sirih' 'sirih' 'sirih' 'sirih' 'sirih' 'sirih' 'sirih'\n",
      " 'sirih' 'sirih' 'sirih' 'sirih' 'sirih' 'sirih' 'sirih' 'sirih' 'sirih'\n",
      " 'sirih' 'sirih' 'sirih' 'sirih' 'sirih' 'sirih' 'sirih' 'sirih' 'sirih'\n",
      " 'sirih' 'sirih' 'sirih' 'sirih' 'sirih' 'sirih' 'sirih' 'sirih' 'sirih'\n",
      " 'sirih' 'sirih' 'sirih' 'sirih' 'sirih' 'sirih' 'sirih' 'sirih' 'sirih'\n",
      " 'sirih' 'sirih' 'sirih' 'sirih' 'sirih' 'sirih' 'sirih' 'sirih' 'sirih'\n",
      " 'sirih' 'sirih' 'sirih' 'sirih' 'sirih' 'sirih' 'sirih' 'sirih' 'sirih'\n",
      " 'sirih' 'seledri' 'seledri' 'seledri' 'seledri' 'seledri' 'seledri'\n",
      " 'seledri' 'seledri' 'seledri' 'seledri' 'seledri' 'seledri' 'seledri'\n",
      " 'seledri' 'seledri' 'seledri' 'seledri' 'seledri' 'seledri' 'seledri'\n",
      " 'seledri' 'seledri' 'seledri' 'seledri' 'seledri' 'seledri' 'seledri'\n",
      " 'seledri' 'seledri' 'seledri' 'seledri' 'seledri' 'seledri' 'seledri'\n",
      " 'seledri' 'seledri' 'seledri' 'seledri' 'seledri' 'seledri' 'seledri'\n",
      " 'seledri' 'seledri' 'seledri' 'seledri' 'seledri' 'seledri' 'seledri'\n",
      " 'seledri' 'seledri' 'seledri' 'seledri' 'seledri' 'seledri' 'seledri'\n",
      " 'seledri' 'seledri' 'seledri' 'seledri' 'seledri' 'seledri' 'seledri'\n",
      " 'seledri' 'seledri' 'seledri' 'seledri' 'seledri' 'seledri' 'seledri'\n",
      " 'seledri' 'seledri' 'seledri' 'seledri' 'seledri' 'seledri' 'seledri'\n",
      " 'seledri' 'seledri' 'seledri' 'seledri' 'seledri' 'seledri' 'seledri'\n",
      " 'seledri' 'seledri' 'seledri' 'seledri' 'seledri' 'seledri' 'seledri'\n",
      " 'seledri' 'seledri' 'seledri' 'seledri' 'seledri' 'seledri' 'seledri'\n",
      " 'seledri' 'seledri' 'seledri']\n"
     ]
    }
   ],
   "source": [
    "print(labels)"
   ]
  },
  {
   "cell_type": "markdown",
   "id": "8df0182e",
   "metadata": {},
   "source": [
    "## Label Binarizer"
   ]
  },
  {
   "cell_type": "code",
   "execution_count": 7,
   "id": "403c2216",
   "metadata": {},
   "outputs": [
    {
     "name": "stdout",
     "output_type": "stream",
     "text": [
      "[[1]\n",
      " [1]\n",
      " [1]\n",
      " [1]\n",
      " [1]\n",
      " [1]\n",
      " [1]\n",
      " [1]\n",
      " [1]\n",
      " [1]\n",
      " [1]\n",
      " [1]\n",
      " [1]\n",
      " [1]\n",
      " [1]\n",
      " [1]\n",
      " [1]\n",
      " [1]\n",
      " [1]\n",
      " [1]\n",
      " [1]\n",
      " [1]\n",
      " [1]\n",
      " [1]\n",
      " [1]\n",
      " [1]\n",
      " [1]\n",
      " [1]\n",
      " [1]\n",
      " [1]\n",
      " [1]\n",
      " [1]\n",
      " [1]\n",
      " [1]\n",
      " [1]\n",
      " [1]\n",
      " [1]\n",
      " [1]\n",
      " [1]\n",
      " [1]\n",
      " [1]\n",
      " [1]\n",
      " [1]\n",
      " [1]\n",
      " [1]\n",
      " [1]\n",
      " [1]\n",
      " [1]\n",
      " [1]\n",
      " [1]\n",
      " [1]\n",
      " [1]\n",
      " [1]\n",
      " [1]\n",
      " [1]\n",
      " [1]\n",
      " [1]\n",
      " [1]\n",
      " [1]\n",
      " [1]\n",
      " [1]\n",
      " [1]\n",
      " [1]\n",
      " [1]\n",
      " [1]\n",
      " [1]\n",
      " [1]\n",
      " [1]\n",
      " [1]\n",
      " [1]\n",
      " [1]\n",
      " [1]\n",
      " [1]\n",
      " [1]\n",
      " [1]\n",
      " [1]\n",
      " [1]\n",
      " [1]\n",
      " [1]\n",
      " [1]\n",
      " [1]\n",
      " [1]\n",
      " [1]\n",
      " [1]\n",
      " [1]\n",
      " [1]\n",
      " [1]\n",
      " [1]\n",
      " [1]\n",
      " [1]\n",
      " [1]\n",
      " [1]\n",
      " [1]\n",
      " [1]\n",
      " [1]\n",
      " [1]\n",
      " [1]\n",
      " [1]\n",
      " [1]\n",
      " [1]\n",
      " [0]\n",
      " [0]\n",
      " [0]\n",
      " [0]\n",
      " [0]\n",
      " [0]\n",
      " [0]\n",
      " [0]\n",
      " [0]\n",
      " [0]\n",
      " [0]\n",
      " [0]\n",
      " [0]\n",
      " [0]\n",
      " [0]\n",
      " [0]\n",
      " [0]\n",
      " [0]\n",
      " [0]\n",
      " [0]\n",
      " [0]\n",
      " [0]\n",
      " [0]\n",
      " [0]\n",
      " [0]\n",
      " [0]\n",
      " [0]\n",
      " [0]\n",
      " [0]\n",
      " [0]\n",
      " [0]\n",
      " [0]\n",
      " [0]\n",
      " [0]\n",
      " [0]\n",
      " [0]\n",
      " [0]\n",
      " [0]\n",
      " [0]\n",
      " [0]\n",
      " [0]\n",
      " [0]\n",
      " [0]\n",
      " [0]\n",
      " [0]\n",
      " [0]\n",
      " [0]\n",
      " [0]\n",
      " [0]\n",
      " [0]\n",
      " [0]\n",
      " [0]\n",
      " [0]\n",
      " [0]\n",
      " [0]\n",
      " [0]\n",
      " [0]\n",
      " [0]\n",
      " [0]\n",
      " [0]\n",
      " [0]\n",
      " [0]\n",
      " [0]\n",
      " [0]\n",
      " [0]\n",
      " [0]\n",
      " [0]\n",
      " [0]\n",
      " [0]\n",
      " [0]\n",
      " [0]\n",
      " [0]\n",
      " [0]\n",
      " [0]\n",
      " [0]\n",
      " [0]\n",
      " [0]\n",
      " [0]\n",
      " [0]\n",
      " [0]\n",
      " [0]\n",
      " [0]\n",
      " [0]\n",
      " [0]\n",
      " [0]\n",
      " [0]\n",
      " [0]\n",
      " [0]\n",
      " [0]\n",
      " [0]\n",
      " [0]\n",
      " [0]\n",
      " [0]\n",
      " [0]\n",
      " [0]\n",
      " [0]\n",
      " [0]\n",
      " [0]\n",
      " [0]\n",
      " [0]]\n"
     ]
    }
   ],
   "source": [
    "lb = LabelBinarizer()\n",
    "labels = lb.fit_transform(labels)\n",
    "print(labels)\n",
    "\n",
    "# 1: Sirih\n",
    "# 0: Seledri"
   ]
  },
  {
   "cell_type": "markdown",
   "id": "8e98c2d9",
   "metadata": {},
   "source": [
    "## Split Dataset"
   ]
  },
  {
   "cell_type": "code",
   "execution_count": 8,
   "id": "f088fc00",
   "metadata": {},
   "outputs": [],
   "source": [
    "x_train, x_test, y_train, y_test = train_test_split(data, labels, test_size=0.2, random_state=42)"
   ]
  },
  {
   "cell_type": "code",
   "execution_count": 9,
   "id": "015efb1c",
   "metadata": {},
   "outputs": [
    {
     "name": "stdout",
     "output_type": "stream",
     "text": [
      "Ukuran data train = (160, 32, 32, 3)\n",
      "Ukuran data test = (40, 32, 32, 3)\n"
     ]
    }
   ],
   "source": [
    "print('Ukuran data train =', x_train.shape)\n",
    "print('Ukuran data test =', x_test.shape)"
   ]
  },
  {
   "cell_type": "markdown",
   "id": "60539883",
   "metadata": {},
   "source": [
    "## ANN Architecture Modelling"
   ]
  },
  {
   "cell_type": "code",
   "execution_count": 15,
   "id": "04125166",
   "metadata": {},
   "outputs": [],
   "source": [
    "model = Sequential()\n",
    "# input Layer: 32 size x 32 size x 3 rgb pixels flattened\n",
    "model.add(Flatten(input_shape=(32, 32, 3)))   \n",
    "model.add(Dense(1024, activation=\"relu\"))   # 1st hidden layer\n",
    "model.add(Dense(512, activation=\"relu\"))  # 2nd hidden layer\n",
    "model.add(Dense(1, activation=\"sigmoid\"))  # output layer"
   ]
  },
  {
   "cell_type": "code",
   "execution_count": 16,
   "id": "8fc10997",
   "metadata": {},
   "outputs": [
    {
     "name": "stdout",
     "output_type": "stream",
     "text": [
      "Model: \"sequential_1\"\n",
      "_________________________________________________________________\n",
      " Layer (type)                Output Shape              Param #   \n",
      "=================================================================\n",
      " flatten_1 (Flatten)         (None, 3072)              0         \n",
      "                                                                 \n",
      " dense_3 (Dense)             (None, 1024)              3146752   \n",
      "                                                                 \n",
      " dense_4 (Dense)             (None, 512)               524800    \n",
      "                                                                 \n",
      " dense_5 (Dense)             (None, 1)                 513       \n",
      "                                                                 \n",
      "=================================================================\n",
      "Total params: 3,672,065\n",
      "Trainable params: 3,672,065\n",
      "Non-trainable params: 0\n",
      "_________________________________________________________________\n"
     ]
    }
   ],
   "source": [
    "model.summary()"
   ]
  },
  {
   "cell_type": "code",
   "execution_count": 17,
   "id": "6a97fb93",
   "metadata": {},
   "outputs": [],
   "source": [
    "# hyperparameter setting\n",
    "lr = 0.001\n",
    "max_epochs = 100\n",
    "opt_funct = Adam(learning_rate=lr)"
   ]
  },
  {
   "cell_type": "code",
   "execution_count": 18,
   "id": "de3f9d13",
   "metadata": {},
   "outputs": [],
   "source": [
    "model.compile(loss = 'binary_crossentropy', \n",
    "              optimizer = opt_funct, \n",
    "              metrics = ['accuracy'])"
   ]
  },
  {
   "cell_type": "code",
   "execution_count": 19,
   "id": "09b32c38",
   "metadata": {},
   "outputs": [
    {
     "name": "stdout",
     "output_type": "stream",
     "text": [
      "Epoch 1/100\n",
      "5/5 [==============================] - 1s 128ms/step - loss: 3.9898 - accuracy: 0.5437 - val_loss: 0.7465 - val_accuracy: 0.4750\n",
      "Epoch 2/100\n",
      "5/5 [==============================] - 0s 50ms/step - loss: 0.9064 - accuracy: 0.5562 - val_loss: 0.6746 - val_accuracy: 0.5250\n",
      "Epoch 3/100\n",
      "5/5 [==============================] - 0s 48ms/step - loss: 0.6680 - accuracy: 0.5375 - val_loss: 0.5663 - val_accuracy: 0.6250\n",
      "Epoch 4/100\n",
      "5/5 [==============================] - 0s 50ms/step - loss: 0.5605 - accuracy: 0.6625 - val_loss: 0.5050 - val_accuracy: 0.7250\n",
      "Epoch 5/100\n",
      "5/5 [==============================] - 0s 48ms/step - loss: 0.4693 - accuracy: 0.8062 - val_loss: 0.3720 - val_accuracy: 0.9000\n",
      "Epoch 6/100\n",
      "5/5 [==============================] - 0s 55ms/step - loss: 0.3526 - accuracy: 0.9125 - val_loss: 0.2879 - val_accuracy: 0.9500\n",
      "Epoch 7/100\n",
      "5/5 [==============================] - 0s 50ms/step - loss: 0.2799 - accuracy: 0.9250 - val_loss: 0.2320 - val_accuracy: 0.9500\n",
      "Epoch 8/100\n",
      "5/5 [==============================] - 0s 50ms/step - loss: 0.2207 - accuracy: 0.9250 - val_loss: 0.1853 - val_accuracy: 0.9500\n",
      "Epoch 9/100\n",
      "5/5 [==============================] - 0s 54ms/step - loss: 0.1756 - accuracy: 0.9563 - val_loss: 0.2088 - val_accuracy: 0.9000\n",
      "Epoch 10/100\n",
      "5/5 [==============================] - 0s 50ms/step - loss: 0.1522 - accuracy: 0.9500 - val_loss: 0.1434 - val_accuracy: 0.9500\n",
      "Epoch 11/100\n",
      "5/5 [==============================] - 0s 53ms/step - loss: 0.1469 - accuracy: 0.9375 - val_loss: 0.2278 - val_accuracy: 0.8750\n",
      "Epoch 12/100\n",
      "5/5 [==============================] - 0s 50ms/step - loss: 0.1297 - accuracy: 0.9500 - val_loss: 0.1285 - val_accuracy: 0.9750\n",
      "Epoch 13/100\n",
      "5/5 [==============================] - 0s 49ms/step - loss: 0.1203 - accuracy: 0.9625 - val_loss: 0.1223 - val_accuracy: 0.9750\n",
      "Epoch 14/100\n",
      "5/5 [==============================] - 0s 52ms/step - loss: 0.1023 - accuracy: 0.9625 - val_loss: 0.1313 - val_accuracy: 0.9750\n",
      "Epoch 15/100\n",
      "5/5 [==============================] - 0s 50ms/step - loss: 0.0931 - accuracy: 0.9688 - val_loss: 0.2154 - val_accuracy: 0.9000\n",
      "Epoch 16/100\n",
      "5/5 [==============================] - 0s 50ms/step - loss: 0.0885 - accuracy: 0.9688 - val_loss: 0.1361 - val_accuracy: 0.9750\n",
      "Epoch 17/100\n",
      "5/5 [==============================] - 0s 52ms/step - loss: 0.1086 - accuracy: 0.9563 - val_loss: 0.1019 - val_accuracy: 0.9500\n",
      "Epoch 18/100\n",
      "5/5 [==============================] - 0s 52ms/step - loss: 0.2627 - accuracy: 0.9000 - val_loss: 0.1222 - val_accuracy: 0.9500\n",
      "Epoch 19/100\n",
      "5/5 [==============================] - 0s 49ms/step - loss: 0.2282 - accuracy: 0.8938 - val_loss: 0.1162 - val_accuracy: 0.9750\n",
      "Epoch 20/100\n",
      "5/5 [==============================] - 0s 52ms/step - loss: 0.1282 - accuracy: 0.9375 - val_loss: 0.2148 - val_accuracy: 0.9000\n",
      "Epoch 21/100\n",
      "5/5 [==============================] - 0s 50ms/step - loss: 0.0907 - accuracy: 0.9625 - val_loss: 0.1769 - val_accuracy: 0.9250\n",
      "Epoch 22/100\n",
      "5/5 [==============================] - 0s 50ms/step - loss: 0.0743 - accuracy: 0.9563 - val_loss: 0.1603 - val_accuracy: 0.9250\n",
      "Epoch 23/100\n",
      "5/5 [==============================] - 0s 52ms/step - loss: 0.0676 - accuracy: 0.9750 - val_loss: 0.1134 - val_accuracy: 0.9500\n",
      "Epoch 24/100\n",
      "5/5 [==============================] - 0s 52ms/step - loss: 0.1025 - accuracy: 0.9563 - val_loss: 0.1255 - val_accuracy: 0.9750\n",
      "Epoch 25/100\n",
      "5/5 [==============================] - 0s 52ms/step - loss: 0.0538 - accuracy: 0.9812 - val_loss: 0.1428 - val_accuracy: 0.9750\n",
      "Epoch 26/100\n",
      "5/5 [==============================] - 0s 51ms/step - loss: 0.0610 - accuracy: 0.9812 - val_loss: 0.1098 - val_accuracy: 0.9750\n",
      "Epoch 27/100\n",
      "5/5 [==============================] - 0s 52ms/step - loss: 0.0443 - accuracy: 0.9812 - val_loss: 0.1272 - val_accuracy: 0.9750\n",
      "Epoch 28/100\n",
      "5/5 [==============================] - 0s 46ms/step - loss: 0.0430 - accuracy: 0.9875 - val_loss: 0.0909 - val_accuracy: 0.9750\n",
      "Epoch 29/100\n",
      "5/5 [==============================] - 0s 48ms/step - loss: 0.0520 - accuracy: 0.9812 - val_loss: 0.1031 - val_accuracy: 0.9750\n",
      "Epoch 30/100\n",
      "5/5 [==============================] - 0s 52ms/step - loss: 0.0485 - accuracy: 0.9937 - val_loss: 0.1515 - val_accuracy: 0.9500\n",
      "Epoch 31/100\n",
      "5/5 [==============================] - 0s 50ms/step - loss: 0.0604 - accuracy: 0.9750 - val_loss: 0.3017 - val_accuracy: 0.8500\n",
      "Epoch 32/100\n",
      "5/5 [==============================] - 0s 50ms/step - loss: 0.0834 - accuracy: 0.9625 - val_loss: 0.1127 - val_accuracy: 0.9750\n",
      "Epoch 33/100\n",
      "5/5 [==============================] - 0s 49ms/step - loss: 0.0371 - accuracy: 0.9812 - val_loss: 0.0820 - val_accuracy: 0.9500\n",
      "Epoch 34/100\n",
      "5/5 [==============================] - 0s 53ms/step - loss: 0.0991 - accuracy: 0.9563 - val_loss: 0.0901 - val_accuracy: 0.9750\n",
      "Epoch 35/100\n",
      "5/5 [==============================] - 0s 49ms/step - loss: 0.0769 - accuracy: 0.9625 - val_loss: 0.2452 - val_accuracy: 0.9000\n",
      "Epoch 36/100\n",
      "5/5 [==============================] - 0s 46ms/step - loss: 0.0332 - accuracy: 0.9937 - val_loss: 0.0962 - val_accuracy: 0.9750\n",
      "Epoch 37/100\n",
      "5/5 [==============================] - 0s 52ms/step - loss: 0.0483 - accuracy: 0.9688 - val_loss: 0.1064 - val_accuracy: 0.9750\n",
      "Epoch 38/100\n",
      "5/5 [==============================] - 0s 47ms/step - loss: 0.0906 - accuracy: 0.9750 - val_loss: 0.2086 - val_accuracy: 0.9250\n",
      "Epoch 39/100\n",
      "5/5 [==============================] - 0s 52ms/step - loss: 0.0645 - accuracy: 0.9625 - val_loss: 0.4105 - val_accuracy: 0.8500\n",
      "Epoch 40/100\n",
      "5/5 [==============================] - 0s 57ms/step - loss: 0.1411 - accuracy: 0.9250 - val_loss: 0.7278 - val_accuracy: 0.8500\n",
      "Epoch 41/100\n",
      "5/5 [==============================] - 0s 49ms/step - loss: 0.2072 - accuracy: 0.9187 - val_loss: 0.0816 - val_accuracy: 0.9750\n",
      "Epoch 42/100\n",
      "5/5 [==============================] - 0s 55ms/step - loss: 0.0533 - accuracy: 0.9812 - val_loss: 0.0693 - val_accuracy: 0.9500\n",
      "Epoch 43/100\n",
      "5/5 [==============================] - 0s 57ms/step - loss: 0.0393 - accuracy: 0.9875 - val_loss: 0.2934 - val_accuracy: 0.8750\n",
      "Epoch 44/100\n",
      "5/5 [==============================] - 0s 53ms/step - loss: 0.0280 - accuracy: 1.0000 - val_loss: 0.0862 - val_accuracy: 0.9750\n",
      "Epoch 45/100\n",
      "5/5 [==============================] - 0s 49ms/step - loss: 0.0357 - accuracy: 0.9875 - val_loss: 0.2110 - val_accuracy: 0.9250\n",
      "Epoch 46/100\n",
      "5/5 [==============================] - 0s 49ms/step - loss: 0.0236 - accuracy: 1.0000 - val_loss: 0.0767 - val_accuracy: 0.9750\n",
      "Epoch 47/100\n",
      "5/5 [==============================] - 0s 52ms/step - loss: 0.0183 - accuracy: 0.9937 - val_loss: 0.2349 - val_accuracy: 0.9000\n",
      "Epoch 48/100\n",
      "5/5 [==============================] - 0s 54ms/step - loss: 0.0273 - accuracy: 0.9937 - val_loss: 0.0671 - val_accuracy: 0.9500\n",
      "Epoch 49/100\n",
      "5/5 [==============================] - 0s 50ms/step - loss: 0.0270 - accuracy: 0.9937 - val_loss: 0.2367 - val_accuracy: 0.9000\n",
      "Epoch 50/100\n",
      "5/5 [==============================] - 0s 50ms/step - loss: 0.0154 - accuracy: 1.0000 - val_loss: 0.0668 - val_accuracy: 0.9500\n",
      "Epoch 51/100\n",
      "5/5 [==============================] - 0s 54ms/step - loss: 0.0160 - accuracy: 0.9937 - val_loss: 0.3863 - val_accuracy: 0.8500\n",
      "Epoch 52/100\n",
      "5/5 [==============================] - 0s 51ms/step - loss: 0.0574 - accuracy: 0.9688 - val_loss: 0.0687 - val_accuracy: 0.9500\n",
      "Epoch 53/100\n",
      "5/5 [==============================] - 0s 54ms/step - loss: 0.0631 - accuracy: 0.9750 - val_loss: 0.0888 - val_accuracy: 0.9750\n",
      "Epoch 54/100\n",
      "5/5 [==============================] - 0s 54ms/step - loss: 0.0467 - accuracy: 0.9750 - val_loss: 0.3707 - val_accuracy: 0.8500\n",
      "Epoch 55/100\n",
      "5/5 [==============================] - 0s 52ms/step - loss: 0.0552 - accuracy: 0.9812 - val_loss: 0.1428 - val_accuracy: 0.9500\n",
      "Epoch 56/100\n",
      "5/5 [==============================] - 0s 53ms/step - loss: 0.0992 - accuracy: 0.9688 - val_loss: 0.4469 - val_accuracy: 0.8500\n",
      "Epoch 57/100\n",
      "5/5 [==============================] - 0s 55ms/step - loss: 0.0330 - accuracy: 0.9875 - val_loss: 0.0809 - val_accuracy: 0.9750\n",
      "Epoch 58/100\n",
      "5/5 [==============================] - 0s 49ms/step - loss: 0.0158 - accuracy: 1.0000 - val_loss: 0.1344 - val_accuracy: 0.9750\n",
      "Epoch 59/100\n"
     ]
    },
    {
     "name": "stdout",
     "output_type": "stream",
     "text": [
      "5/5 [==============================] - 0s 52ms/step - loss: 0.0123 - accuracy: 0.9937 - val_loss: 0.0883 - val_accuracy: 0.9750\n",
      "Epoch 60/100\n",
      "5/5 [==============================] - 0s 54ms/step - loss: 0.0069 - accuracy: 1.0000 - val_loss: 0.2078 - val_accuracy: 0.9250\n",
      "Epoch 61/100\n",
      "5/5 [==============================] - 0s 50ms/step - loss: 0.0062 - accuracy: 1.0000 - val_loss: 0.0959 - val_accuracy: 0.9750\n",
      "Epoch 62/100\n",
      "5/5 [==============================] - 0s 51ms/step - loss: 0.0068 - accuracy: 1.0000 - val_loss: 0.1199 - val_accuracy: 0.9750\n",
      "Epoch 63/100\n",
      "5/5 [==============================] - 0s 53ms/step - loss: 0.0051 - accuracy: 1.0000 - val_loss: 0.1384 - val_accuracy: 0.9750\n",
      "Epoch 64/100\n",
      "5/5 [==============================] - 0s 52ms/step - loss: 0.0050 - accuracy: 1.0000 - val_loss: 0.1154 - val_accuracy: 0.9750\n",
      "Epoch 65/100\n",
      "5/5 [==============================] - 0s 50ms/step - loss: 0.0048 - accuracy: 1.0000 - val_loss: 0.1051 - val_accuracy: 0.9750\n",
      "Epoch 66/100\n",
      "5/5 [==============================] - 0s 50ms/step - loss: 0.0051 - accuracy: 1.0000 - val_loss: 0.1540 - val_accuracy: 0.9500\n",
      "Epoch 67/100\n",
      "5/5 [==============================] - 0s 50ms/step - loss: 0.0050 - accuracy: 1.0000 - val_loss: 0.1184 - val_accuracy: 0.9750\n",
      "Epoch 68/100\n",
      "5/5 [==============================] - 0s 52ms/step - loss: 0.0044 - accuracy: 1.0000 - val_loss: 0.0911 - val_accuracy: 0.9750\n",
      "Epoch 69/100\n",
      "5/5 [==============================] - 0s 50ms/step - loss: 0.0043 - accuracy: 1.0000 - val_loss: 0.1331 - val_accuracy: 0.9750\n",
      "Epoch 70/100\n",
      "5/5 [==============================] - 0s 50ms/step - loss: 0.0054 - accuracy: 1.0000 - val_loss: 0.1450 - val_accuracy: 0.9750\n",
      "Epoch 71/100\n",
      "5/5 [==============================] - 0s 55ms/step - loss: 0.0031 - accuracy: 1.0000 - val_loss: 0.0959 - val_accuracy: 0.9750\n",
      "Epoch 72/100\n",
      "5/5 [==============================] - 0s 52ms/step - loss: 0.0051 - accuracy: 1.0000 - val_loss: 0.1525 - val_accuracy: 0.9500\n",
      "Epoch 73/100\n",
      "5/5 [==============================] - 0s 50ms/step - loss: 0.0036 - accuracy: 1.0000 - val_loss: 0.1224 - val_accuracy: 0.9750\n",
      "Epoch 74/100\n",
      "5/5 [==============================] - 0s 53ms/step - loss: 0.0033 - accuracy: 1.0000 - val_loss: 0.0977 - val_accuracy: 0.9750\n",
      "Epoch 75/100\n",
      "5/5 [==============================] - 0s 48ms/step - loss: 0.0033 - accuracy: 1.0000 - val_loss: 0.1529 - val_accuracy: 0.9500\n",
      "Epoch 76/100\n",
      "5/5 [==============================] - 0s 52ms/step - loss: 0.0032 - accuracy: 1.0000 - val_loss: 0.1388 - val_accuracy: 0.9750\n",
      "Epoch 77/100\n",
      "5/5 [==============================] - 0s 47ms/step - loss: 0.0027 - accuracy: 1.0000 - val_loss: 0.1191 - val_accuracy: 0.9750\n",
      "Epoch 78/100\n",
      "5/5 [==============================] - 0s 54ms/step - loss: 0.0029 - accuracy: 1.0000 - val_loss: 0.1343 - val_accuracy: 0.9750\n",
      "Epoch 79/100\n",
      "5/5 [==============================] - 0s 51ms/step - loss: 0.0029 - accuracy: 1.0000 - val_loss: 0.1416 - val_accuracy: 0.9750\n",
      "Epoch 80/100\n",
      "5/5 [==============================] - 0s 55ms/step - loss: 0.0024 - accuracy: 1.0000 - val_loss: 0.1098 - val_accuracy: 0.9750\n",
      "Epoch 81/100\n",
      "5/5 [==============================] - 0s 51ms/step - loss: 0.0028 - accuracy: 1.0000 - val_loss: 0.1219 - val_accuracy: 0.9750\n",
      "Epoch 82/100\n",
      "5/5 [==============================] - 0s 54ms/step - loss: 0.0031 - accuracy: 1.0000 - val_loss: 0.1367 - val_accuracy: 0.9750\n",
      "Epoch 83/100\n",
      "5/5 [==============================] - 0s 48ms/step - loss: 0.0021 - accuracy: 1.0000 - val_loss: 0.1223 - val_accuracy: 0.9750\n",
      "Epoch 84/100\n",
      "5/5 [==============================] - 0s 50ms/step - loss: 0.0022 - accuracy: 1.0000 - val_loss: 0.1258 - val_accuracy: 0.9750\n",
      "Epoch 85/100\n",
      "5/5 [==============================] - 0s 50ms/step - loss: 0.0020 - accuracy: 1.0000 - val_loss: 0.1493 - val_accuracy: 0.9750\n",
      "Epoch 86/100\n",
      "5/5 [==============================] - 0s 47ms/step - loss: 0.0020 - accuracy: 1.0000 - val_loss: 0.1321 - val_accuracy: 0.9750\n",
      "Epoch 87/100\n",
      "5/5 [==============================] - 0s 52ms/step - loss: 0.0019 - accuracy: 1.0000 - val_loss: 0.1243 - val_accuracy: 0.9750\n",
      "Epoch 88/100\n",
      "5/5 [==============================] - 0s 51ms/step - loss: 0.0017 - accuracy: 1.0000 - val_loss: 0.1442 - val_accuracy: 0.9750\n",
      "Epoch 89/100\n",
      "5/5 [==============================] - 0s 52ms/step - loss: 0.0018 - accuracy: 1.0000 - val_loss: 0.1343 - val_accuracy: 0.9750\n",
      "Epoch 90/100\n",
      "5/5 [==============================] - 0s 50ms/step - loss: 0.0017 - accuracy: 1.0000 - val_loss: 0.1393 - val_accuracy: 0.9750\n",
      "Epoch 91/100\n",
      "5/5 [==============================] - 0s 50ms/step - loss: 0.0016 - accuracy: 1.0000 - val_loss: 0.1256 - val_accuracy: 0.9750\n",
      "Epoch 92/100\n",
      "5/5 [==============================] - 0s 52ms/step - loss: 0.0016 - accuracy: 1.0000 - val_loss: 0.1512 - val_accuracy: 0.9750\n",
      "Epoch 93/100\n",
      "5/5 [==============================] - 0s 51ms/step - loss: 0.0014 - accuracy: 1.0000 - val_loss: 0.1304 - val_accuracy: 0.9750\n",
      "Epoch 94/100\n",
      "5/5 [==============================] - 0s 55ms/step - loss: 0.0014 - accuracy: 1.0000 - val_loss: 0.1293 - val_accuracy: 0.9750\n",
      "Epoch 95/100\n",
      "5/5 [==============================] - 0s 50ms/step - loss: 0.0017 - accuracy: 1.0000 - val_loss: 0.1588 - val_accuracy: 0.9750\n",
      "Epoch 96/100\n",
      "5/5 [==============================] - 0s 54ms/step - loss: 0.0011 - accuracy: 1.0000 - val_loss: 0.1205 - val_accuracy: 0.9750\n",
      "Epoch 97/100\n",
      "5/5 [==============================] - 0s 49ms/step - loss: 0.0014 - accuracy: 1.0000 - val_loss: 0.1266 - val_accuracy: 0.9750\n",
      "Epoch 98/100\n",
      "5/5 [==============================] - 0s 55ms/step - loss: 0.0010 - accuracy: 1.0000 - val_loss: 0.1647 - val_accuracy: 0.9500\n",
      "Epoch 99/100\n",
      "5/5 [==============================] - 0s 49ms/step - loss: 0.0011 - accuracy: 1.0000 - val_loss: 0.1419 - val_accuracy: 0.9750\n",
      "Epoch 100/100\n",
      "5/5 [==============================] - 0s 50ms/step - loss: 9.7462e-04 - accuracy: 1.0000 - val_loss: 0.1222 - val_accuracy: 0.9750\n",
      "Time taken: 25.9 seconds\n"
     ]
    }
   ],
   "source": [
    "times = time.time()\n",
    "H = model.fit(x_train, y_train, validation_data=(x_test, y_test), \n",
    "          epochs=max_epochs, batch_size=32)\n",
    "print(\"Time taken: {:.1f} seconds\".format(time.time() - times))"
   ]
  },
  {
   "cell_type": "markdown",
   "id": "b72d579a",
   "metadata": {},
   "source": [
    "## Model Evaluation"
   ]
  },
  {
   "cell_type": "code",
   "execution_count": 20,
   "id": "740c6e66",
   "metadata": {},
   "outputs": [
    {
     "name": "stdout",
     "output_type": "stream",
     "text": [
      "              precision    recall  f1-score   support\n",
      "\n",
      "       sirih       1.00      0.95      0.97        19\n",
      "     seledri       0.95      1.00      0.98        21\n",
      "\n",
      "    accuracy                           0.97        40\n",
      "   macro avg       0.98      0.97      0.97        40\n",
      "weighted avg       0.98      0.97      0.97        40\n",
      "\n"
     ]
    },
    {
     "name": "stderr",
     "output_type": "stream",
     "text": [
      "<ipython-input-20-b6245a92792e>:3: DeprecationWarning: `np.int` is a deprecated alias for the builtin `int`. To silence this warning, use `int` by itself. Doing this will not modify any behavior and is safe. When replacing `np.int`, you may wish to use e.g. `np.int64` or `np.int32` to specify the precision. If you wish to review your current use, check the release note link for additional information.\n",
      "Deprecated in NumPy 1.20; for more details and guidance: https://numpy.org/devdocs/release/1.20.0-notes.html#deprecations\n",
      "  target = (predictions > 0.5).astype(np.int)\n"
     ]
    }
   ],
   "source": [
    "# check acccuracy model for data test\n",
    "predictions = model.predict(x_test, batch_size=32)\n",
    "target = (predictions > 0.5).astype(np.int)\n",
    "print(classification_report(y_test, target, target_names=label_list))"
   ]
  },
  {
   "cell_type": "markdown",
   "id": "5bff4e8f",
   "metadata": {},
   "source": [
    "## Model Visualize"
   ]
  },
  {
   "cell_type": "code",
   "execution_count": 21,
   "id": "fe5c6568",
   "metadata": {},
   "outputs": [
    {
     "data": {
      "image/png": "[encoded data removed]",
      "text/plain": [
       "<Figure size 720x576 with 1 Axes>"
      ]
     },
     "metadata": {},
     "output_type": "display_data"
    }
   ],
   "source": [
    "# Plot Training and Validation Loss\n",
    "\n",
    "N = np.arange(0, max_epochs)\n",
    "plt.style.use(\"ggplot\")\n",
    "plt.figure(figsize = [10,8])\n",
    "plt.plot(N, H.history[\"loss\"], label=\"train_loss\")\n",
    "plt.plot(N, H.history[\"val_loss\"], label=\"val_loss\")\n",
    "plt.title(\"Training and Validation Loss using ANN Architecture\")\n",
    "plt.xlabel(\"Epoch #\", weight=\"bold\")\n",
    "plt.ylabel(\"Loss\", weight=\"bold\")\n",
    "plt.legend()\n",
    "plt.show()"
   ]
  },
  {
   "cell_type": "code",
   "execution_count": 22,
   "id": "3bd67e9d",
   "metadata": {},
   "outputs": [
    {
     "data": {
      "image/png": "[encoded data removed]",
      "text/plain": [
       "<Figure size 720x576 with 1 Axes>"
      ]
     },
     "metadata": {},
     "output_type": "display_data"
    }
   ],
   "source": [
    "# Plot Training and Validation Accuracy\n",
    "\n",
    "N = np.arange(0, max_epochs)\n",
    "plt.style.use(\"ggplot\")\n",
    "plt.figure(figsize = [10,8])\n",
    "plt.plot(N, H.history[\"accuracy\"], label=\"train_acc\")\n",
    "plt.plot(N, H.history[\"val_accuracy\"], label=\"val_acc\")\n",
    "plt.title(\"Training and Validation Accuracy using ANN Architecture\")\n",
    "plt.xlabel(\"Epoch #\", weight=\"bold\")\n",
    "plt.ylabel(\"Accuracy\", weight=\"bold\")\n",
    "plt.legend()\n",
    "plt.show()"
   ]
  },
  {
   "cell_type": "markdown",
   "id": "d37dcc27",
   "metadata": {},
   "source": [
    "## Check Model"
   ]
  },
  {
   "cell_type": "code",
   "execution_count": 27,
   "id": "c9495ffc",
   "metadata": {},
   "outputs": [
    {
     "name": "stdout",
     "output_type": "stream",
     "text": [
      "[[1.0902692e-06]]\n"
     ]
    }
   ],
   "source": [
    "queryPath = imagePaths + 'check_seledri.jpg'\n",
    "query = cv2.imread(queryPath)\n",
    "output = query.copy()\n",
    "query = cv2.resize(query, (32, 32))\n",
    "q = []\n",
    "q.append(query)\n",
    "q = np.array(q, dtype='float') / 255.0\n",
    "\n",
    "q_pred = model.predict(q)\n",
    "print(q_pred)"
   ]
  },
  {
   "cell_type": "code",
   "execution_count": 28,
   "id": "8a369bb9",
   "metadata": {},
   "outputs": [
    {
     "ename": "error",
     "evalue": "OpenCV(4.5.4-dev) D:\\a\\opencv-python\\opencv-python\\opencv\\modules\\highgui\\src\\window_w32.cpp:1261: error: (-27:Null pointer) NULL window: 'Output' in function 'cvDestroyWindow'\n",
     "output_type": "error",
     "traceback": [
      "\u001b[1;31m---------------------------------------------------------------------------\u001b[0m",
      "\u001b[1;31merror\u001b[0m                                     Traceback (most recent call last)",
      "\u001b[1;32m<ipython-input-28-3afe0712057c>\u001b[0m in \u001b[0;36m<module>\u001b[1;34m\u001b[0m\n\u001b[0;32m      8\u001b[0m \u001b[0mcv2\u001b[0m\u001b[1;33m.\u001b[0m\u001b[0mimshow\u001b[0m\u001b[1;33m(\u001b[0m\u001b[1;34m'Output'\u001b[0m\u001b[1;33m,\u001b[0m \u001b[0moutput\u001b[0m\u001b[1;33m)\u001b[0m\u001b[1;33m\u001b[0m\u001b[1;33m\u001b[0m\u001b[0m\n\u001b[0;32m      9\u001b[0m \u001b[0mcv2\u001b[0m\u001b[1;33m.\u001b[0m\u001b[0mwaitKey\u001b[0m\u001b[1;33m(\u001b[0m\u001b[1;33m)\u001b[0m\u001b[1;33m\u001b[0m\u001b[1;33m\u001b[0m\u001b[0m\n\u001b[1;32m---> 10\u001b[1;33m \u001b[0mcv2\u001b[0m\u001b[1;33m.\u001b[0m\u001b[0mdestroyWindow\u001b[0m\u001b[1;33m(\u001b[0m\u001b[1;34m'Output'\u001b[0m\u001b[1;33m)\u001b[0m\u001b[1;33m\u001b[0m\u001b[1;33m\u001b[0m\u001b[0m\n\u001b[0m",
      "\u001b[1;31merror\u001b[0m: OpenCV(4.5.4-dev) D:\\a\\opencv-python\\opencv-python\\opencv\\modules\\highgui\\src\\window_w32.cpp:1261: error: (-27:Null pointer) NULL window: 'Output' in function 'cvDestroyWindow'\n"
     ]
    }
   ],
   "source": [
    "if q_pred<=0.5 :\n",
    "    target = \"Seledri\"\n",
    "else :\n",
    "    target = \"Sirih\"\n",
    "text = \"{}\".format(target)\n",
    "cv2.putText(output, text, (10, 30), cv2.FONT_HERSHEY_SIMPLEX, 0.7, (0, 0, 255), 2)\n",
    " \n",
    "cv2.imshow('Output', output)\n",
    "cv2.waitKey() \n",
    "cv2.destroyWindow('Output')"
   ]
  },
  {
   "cell_type": "code",
   "execution_count": null,
   "id": "fb845326",
   "metadata": {},
   "outputs": [],
   "source": []
  }
 ],
 "metadata": {
  "kernelspec": {
   "display_name": "Python 3",
   "language": "python",
   "name": "python3"
  },
  "language_info": {
   "codemirror_mode": {
    "name": "ipython",
    "version": 3
   },
   "file_extension": ".py",
   "mimetype": "text/x-python",
   "name": "python",
   "nbconvert_exporter": "python",
   "pygments_lexer": "ipython3",
   "version": "3.9.4"
  }
 },
 "nbformat": 4,
 "nbformat_minor": 5
}
